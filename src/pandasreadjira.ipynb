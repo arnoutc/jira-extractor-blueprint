{
 "cells": [
  {
   "cell_type": "code",
   "execution_count": 1,
   "metadata": {},
   "outputs": [],
   "source": [
    "import pandas as pd\n",
    "from atlassian import Jira\n",
    "from datetime import datetime\n",
    "import os\n",
    "from dotenv import load_dotenv\n",
    "load_dotenv()\n",
    "import xlwings as xw  \n"
   ]
  },
  {
   "cell_type": "code",
   "execution_count": 2,
   "metadata": {
    "tags": []
   },
   "outputs": [
    {
     "name": "stdout",
     "output_type": "stream",
     "text": [
      "JIRA_PW: GVmbyWB6XXdCiJQ93oOL6842\n",
      "   fields.resolutiondate                fields.created fields.issuetype.name  \\\n",
      "0                   None  2023-03-15T19:17:11.514+0000                   Bug   \n",
      "1                   None  2023-03-15T13:24:30.206+0000                  Task   \n",
      "2                   None  2023-03-15T13:18:45.518+0000                Design   \n",
      "3                   None  2023-03-15T13:18:16.339+0000                 Story   \n",
      "4                   None  2023-03-15T13:06:44.632+0000                 Story   \n",
      "..                   ...                           ...                   ...   \n",
      "95                  None  2023-01-26T15:09:30.541+0000                 Story   \n",
      "96                  None  2023-01-26T15:03:23.928+0000                 Story   \n",
      "97                  None  2023-01-26T15:00:02.507+0000                 Story   \n",
      "98                  None  2023-01-26T14:44:05.943+0000                 Story   \n",
      "99                  None  2023-01-26T14:40:58.534+0000                 Story   \n",
      "\n",
      "           key                                     fields.summary  \n",
      "0   ASTRA-2211                                     Needs deleting  \n",
      "1   ASTRA-2204                                 Fix Deploy Summary  \n",
      "2   ASTRA-2203                       Plan/schedule ground testing  \n",
      "3   ASTRA-2202  [iOS] [FlightUI] Update and confirm colours an...  \n",
      "4   ASTRA-2201  [Android] [FlightUI] Update and confirm colour...  \n",
      "..         ...                                                ...  \n",
      "95  ASTRA-1571                     [V4] [iOS] Reset drop profiles  \n",
      "96  ASTRA-1570                      [V4] [iOS] Load drop profiles  \n",
      "97  ASTRA-1568                      [V4] [iOS] Save drop profiles  \n",
      "98  ASTRA-1567  [V4] [iOS] Change Drop Profile inputs dependin...  \n",
      "99  ASTRA-1566         [V4] [iOS] Validate my drop profile inputs  \n",
      "\n",
      "[100 rows x 5 columns]\n",
      "Ballistic\n",
      "Ballistic\n"
     ]
    }
   ],
   "source": [
    "url = \"https://defencedigital.atlassian.net\"\n",
    "\n",
    "project_folder = os.path.expanduser('~/Dev/python/jira-extractor')  # adjust as appropriate\n",
    "load_dotenv(os.path.join(project_folder, '.env'))\n",
    "JIRA_USER = os.getenv('JIRA_USER')\n",
    "JIRA_PW = os.getenv('JIRA_PW')\n",
    "PROJECT = 'Ballistic'\n",
    "\n",
    "jira_instance = Jira(\n",
    "    url = url,\n",
    "    username = JIRA_USER,\n",
    "    password = JIRA_PW,\n",
    ")\n",
    "\n",
    "print('JIRA_PW: ' + JIRA_PW);\n",
    "\n",
    "# Get results of jql query\n",
    "results = jira_instance.jql(\"'Product Team' = {}\".format(PROJECT), limit = 1000, fields=[\"resolutiondate\", \"created\", \"issuetype\", \"key\", \"summary\"])\n",
    "\n",
    "\n",
    "# Load the results into a DataFrame\n",
    "df = pd.json_normalize(results[\"issues\"])\n",
    "\n",
    "# Define which fields we care about using dot notation for nested fields\n",
    "FIELDS_OF_INTEREST = [\"fields.resolutiondate\", \"fields.created\", \"fields.issuetype.name\", \"key\", \"fields.summary\"]\n",
    "\n",
    "# Filter to only display the fields we care about. To actually filter them out use df = df[FIELDS_OF_INTEREST].\n",
    "df = df[FIELDS_OF_INTEREST]\n",
    "\n",
    "print(df)\n",
    "\n",
    "df['fields.resolutiondate'] = pd.to_datetime(df['fields.resolutiondate'], dayfirst = True)\n",
    "df['fields.created'] = pd.to_datetime(df['fields.created'], dayfirst = True)\n",
    "\n",
    "date = datetime.now().strftime(\"%d%m%y\")\n",
    "\n",
    "PROJECT_NO_SPACE = PROJECT.replace(\" \", \"\")\n",
    "PROJECT_NO_SPACE_NO_BRACE = PROJECT_NO_SPACE.replace('\"','')\n",
    "print(PROJECT_NO_SPACE)\n",
    "print(PROJECT_NO_SPACE_NO_BRACE)\n",
    "\n",
    "path = r'{}/reports/{}/Monte-Carlo-Team-Dashboard-raf-{}-{}.xlsx'.format(project_folder,PROJECT_NO_SPACE_NO_BRACE,PROJECT_NO_SPACE_NO_BRACE,date)\n",
    "\n",
    "book = xw.Book(path)\n",
    "sheet=book.sheets['Your Data']\n",
    "\n",
    "cell_row_number = 2\n",
    "cell_column_number = 1\n",
    "sheet.cells(cell_row_number,cell_column_number).options(index=False, header=False).value = df\n",
    "\n",
    "book.save(path)\n"
   ]
  },
  {
   "cell_type": "code",
   "execution_count": null,
   "metadata": {},
   "outputs": [],
   "source": []
  },
  {
   "cell_type": "code",
   "execution_count": null,
   "metadata": {},
   "outputs": [],
   "source": []
  }
 ],
 "metadata": {
  "kernelspec": {
   "display_name": "base",
   "language": "python",
   "name": "python3"
  },
  "language_info": {
   "codemirror_mode": {
    "name": "ipython",
    "version": 3
   },
   "file_extension": ".py",
   "mimetype": "text/x-python",
   "name": "python",
   "nbconvert_exporter": "python",
   "pygments_lexer": "ipython3",
   "version": "3.9.13"
  },
  "metadata": {
   "interpreter": {
    "hash": "ac2eaa0ea0ebeafcc7822e65e46aa9d4f966f30b695406963e145ea4a91cd4fc"
   }
  },
  "orig_nbformat": 2,
  "vscode": {
   "interpreter": {
    "hash": "40d3a090f54c6569ab1632332b64b2c03c39dcf918b08424e98f38b5ae0af88f"
   }
  }
 },
 "nbformat": 4,
 "nbformat_minor": 2
}
